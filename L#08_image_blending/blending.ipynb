{
 "cells": [
  {
   "cell_type": "code",
   "execution_count": 2,
   "metadata": {},
   "outputs": [],
   "source": [
    "import cv2\n",
    "import numpy as np"
   ]
  },
  {
   "cell_type": "code",
   "execution_count": null,
   "metadata": {},
   "outputs": [],
   "source": [
    "# create aa fundtion to blend the images\n",
    "def img_blend(path1, path2):\n",
    "    img1 = cv2.imread(path1)\n",
    "    img2 = cv2.imread(path2)\n",
    "\n",
    "    # resize both images and make them equal in size\n",
    "    img1  = cv2.resize(img1, (400, 500))\n",
    "    img2 = cv2.resize(img2, (400, 500))\n",
    "\n",
    "    #display the images uncomment and run in order to see the images \n",
    "    # cv2.imshow(\"img1\", img1)\n",
    "    # cv2.imshow(\"img2\", img2)\n",
    "\n",
    "    # create a function to blend the images\n",
    "    def blend(x):\n",
    "        pass\n",
    "\n",
    "    # create a blank image for switch off\n",
    "    img  = np.zeros((400, 500, 3), np.uint8) # a blank image with 3 color channels \n",
    "\n",
    "    # create a trackbar with any name here naame is \"win\"\n",
    "    cv2.namedWindow(\"win\") # trackbar \n",
    "    cv2.createTrackbar(\"alpha\", \"win\", 1, 100, blend) # a trackbar named ass aalpha will be created over win between 1 and 100 range\n",
    "    switch = \"0: OFF\\n1: ON\" # a switch when it is 0 it is off otherwise ON\n",
    "    # create a switch trackbar\n",
    "    cv2.createTrackbar(switch, \"win\", 0, 1, blend) # between 0 and 1 \n",
    "\n",
    "    # loop around the trackbars\n",
    "    while True:\n",
    "        s = cv2.getTrackbarPos(switch, \"win\")\n",
    "        a= cv2.getTrackbarPos(\"alpha\", \"win\")\n",
    "        n=float(a/100)\n",
    "\n",
    "        # if switch is off there will be a blank image displayed\n",
    "        if s==0:\n",
    "            dst = img[:]\n",
    "        else:\n",
    "            dst = cv2.addWeighted(img1, 1-n, img2, n, 0)\n",
    "            # here 1-n and n is given as the weights of img1 and img2 respectively to keep tthe sum of both values equal to 1\n",
    "        # display the images\n",
    "        cv2.imshow(\"dst\", dst)\n",
    "        k=cv2.waitKey(1) & 0xFF\n",
    "        if k==27:\n",
    "            break\n",
    "    cv2.waitKey(0)\n",
    "    cv2.destroyAllWindows()\n",
    "\n",
    "path1= r\"D:\\complete ML\\Computer_vision\\L#08_image_blending\\img1.jpg\"\n",
    "path2 = r\"D:\\complete ML\\Computer_vision\\L#08_image_blending\\img2.jpeg\"\n",
    "\n",
    "# function instantiation\n",
    "img_blend(path1, path2)"
   ]
  },
  {
   "cell_type": "code",
   "execution_count": null,
   "metadata": {},
   "outputs": [],
   "source": []
  }
 ],
 "metadata": {
  "kernelspec": {
   "display_name": "Python 3",
   "language": "python",
   "name": "python3"
  },
  "language_info": {
   "codemirror_mode": {
    "name": "ipython",
    "version": 3
   },
   "file_extension": ".py",
   "mimetype": "text/x-python",
   "name": "python",
   "nbconvert_exporter": "python",
   "pygments_lexer": "ipython3",
   "version": "3.12.4"
  }
 },
 "nbformat": 4,
 "nbformat_minor": 2
}
