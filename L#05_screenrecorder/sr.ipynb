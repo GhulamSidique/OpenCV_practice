{
 "cells": [
  {
   "cell_type": "markdown",
   "metadata": {},
   "source": [
    "### here we will make a screen recorder software "
   ]
  },
  {
   "cell_type": "markdown",
   "metadata": {},
   "source": []
  },
  {
   "cell_type": "code",
   "execution_count": 1,
   "metadata": {},
   "outputs": [],
   "source": [
    "import cv2\n",
    "import pyautogui as p\n",
    "import numpy as np\n"
   ]
  },
  {
   "cell_type": "code",
   "execution_count": 2,
   "metadata": {},
   "outputs": [],
   "source": [
    "# function to record the screen\n",
    "def screen_rec():\n",
    "    # make use of some variables to save the video\n",
    "\n",
    "    # create the size of the sccreen that has to be recorded\n",
    "    sr = p.size() # complete screen size to record\n",
    "\n",
    "    # to save the file provide input file name and complete address\n",
    "    fn = input(\"Enter the complete path of the file to save ==> \")\n",
    "    # define the frames of video captured per second\n",
    "    ff = 25.0\n",
    "\n",
    "    # create the variable to save the file in the specific format\n",
    "    fourcc = cv2.VideoWriter_fourcc(*\"XVID\")\n",
    "    # ouput\n",
    "    result = cv2.VideoWriter(fn, fourcc, ff, sr)\n",
    "\n",
    "    # create the recording module\n",
    "    cv2.namedWindow(\"Live recording\", cv2.WINDOW_NORMAL)\n",
    "    # resize the window\n",
    "    cv2.resizeWindow(\"Live recording\",(600, 500)) # it is necessary to pass the same name here as well\n",
    "\n",
    "    # loop to captures the frame\n",
    "    while True:\n",
    "        # captuer the screenshots of the screen using pyautogui as follows\n",
    "        shots = p.screenshot()\n",
    "        # convert each ss into an array\n",
    "        frames = np.array(shots)\n",
    "\n",
    "        # conver the colord of each frame of the above array\n",
    "        converted_frames = cv2.cvtColor(frames, cv2.COLOR_BGR2RGB)\n",
    "        # writes thes converted frames into the result\n",
    "        result.write(converted_frames) # this will save the video that has beenn recorded \n",
    "        \n",
    "        # to see the recording\n",
    "        cv2.imshow(\"Live recording\", converted_frames)\n",
    "        # wait key\n",
    "        if cv2.waitKey(1) == ord(\"x\"):\n",
    "            break\n",
    "    # release the video\n",
    "    result.release()\n",
    "    # destroy the windows\n",
    "    cv2.destroyAllWindows()\n",
    "# function instatiation\n",
    "screen_rec()\n"
   ]
  },
  {
   "cell_type": "code",
   "execution_count": null,
   "metadata": {},
   "outputs": [],
   "source": []
  }
 ],
 "metadata": {
  "kernelspec": {
   "display_name": "Python 3",
   "language": "python",
   "name": "python3"
  },
  "language_info": {
   "codemirror_mode": {
    "name": "ipython",
    "version": 3
   },
   "file_extension": ".py",
   "mimetype": "text/x-python",
   "name": "python",
   "nbconvert_exporter": "python",
   "pygments_lexer": "ipython3",
   "version": "3.12.4"
  }
 },
 "nbformat": 4,
 "nbformat_minor": 2
}
