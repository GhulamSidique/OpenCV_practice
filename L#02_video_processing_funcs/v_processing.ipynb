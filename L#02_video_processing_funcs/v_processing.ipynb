{
 "cells": [
  {
   "cell_type": "markdown",
   "metadata": {},
   "source": [
    "### here in this notebook we will be making use of the video to process it\n",
    "### this notebook contains the following functions\n",
    "## 1) Capture the original video\n",
    "## 2) convert the video into grey scale\n",
    "## 3) capture the video from laptopp's camera\n",
    "## 4) save the captured video"
   ]
  },
  {
   "cell_type": "markdown",
   "metadata": {},
   "source": []
  },
  {
   "cell_type": "code",
   "execution_count": 1,
   "metadata": {},
   "outputs": [],
   "source": [
    "# import libraries\n",
    "import cv2"
   ]
  },
  {
   "cell_type": "markdown",
   "metadata": {},
   "source": [
    "### function to capture the original video "
   ]
  },
  {
   "cell_type": "code",
   "execution_count": 3,
   "metadata": {},
   "outputs": [],
   "source": [
    "def capture_original_video(path):\n",
    "    cap_vid = cv2.VideoCapture(path)\n",
    "\n",
    "    # display the video in a loop \n",
    "    while True:\n",
    "        # we have to read a bool ret and frames of video as follows\n",
    "        ret, frame = cap_vid.read()\n",
    "\n",
    "        # resize the size of frame\n",
    "        frame = cv2.resize(frame, (450, 600))\n",
    "\n",
    "        # show the frames of the video\n",
    "        cv2.imshow(\"Tu hi re\", frame)\n",
    "\n",
    "        # add the wait key for the frames to be played at the defined speed\n",
    "        k = cv2.waitKey(25) # here 25 means the video will be played at the normal speed\n",
    "        # if we pass 100 the speed of the video will be very slow and if 0  then the video wil be played at high speed\n",
    "\n",
    "        # video termination critera\n",
    "        if k==ord('x'):\n",
    "            # when the user presses the x the video will be closed\n",
    "            break\n",
    "\n",
    "    # release the video when it is closed\n",
    "    cap_vid.release()\n",
    "    # close the windows\n",
    "    cv2.destroyAllWindows()\n",
    "\n",
    "# path of the video\n",
    "path = \"D:/complete ML/Computer_vision/L#02_video_processing_funcs/sample.mp4\"\n",
    "# function instatiation\n",
    "capture_original_video(path)"
   ]
  },
  {
   "cell_type": "markdown",
   "metadata": {},
   "source": [
    "### function to convert the orginal video into gray scale"
   ]
  },
  {
   "cell_type": "code",
   "execution_count": 4,
   "metadata": {},
   "outputs": [],
   "source": [
    "def capture_black_video(path):\n",
    "    cap_vid = cv2.VideoCapture(path)\n",
    "\n",
    "    # display the video in a loop \n",
    "    while True:\n",
    "        # we have to read a bool ret and frames of video as follows\n",
    "        ret, frame = cap_vid.read()\n",
    "\n",
    "        # resize the size of frame\n",
    "        frame = cv2.resize(frame, (450, 600))\n",
    "\n",
    "        # convert the color of frames to black\n",
    "        converted_frame = cv2.cvtColor(frame, cv2.COLOR_BGR2GRAY) # this function will convert the color of the original frames\n",
    "\n",
    "        # show the frames of the video\n",
    "        cv2.imshow(\"Tu hi re converted\", converted_frame)\n",
    "\n",
    "        # add the wait key for the frames to be played at the defined speed\n",
    "        k = cv2.waitKey(25) # here 25 means the video will be played at the normal speed\n",
    "        # if we pass 100 the speed of the video will be very slow and if 0  then the video wil be played at high speed\n",
    "\n",
    "        # video termination critera\n",
    "        if k==ord('x'):\n",
    "            # when the user presses the x the video will be closed\n",
    "            break\n",
    "\n",
    "    # release the video when it is closed\n",
    "    cap_vid.release()\n",
    "    # close the windows\n",
    "    cv2.destroyAllWindows()\n",
    "    \n",
    "# path of the video\n",
    "path = \"D:/complete ML/Computer_vision/L#02_video_processing_funcs/sample.mp4\"\n",
    "# function instatiation\n",
    "capture_black_video(path)"
   ]
  },
  {
   "cell_type": "markdown",
   "metadata": {},
   "source": [
    "### Function to capture video from laptop's camera\n"
   ]
  },
  {
   "cell_type": "code",
   "execution_count": 1,
   "metadata": {},
   "outputs": [],
   "source": [
    "import cv2\n",
    "def capture_camera_vid():\n",
    "    cap_vid = cv2.VideoCapture(0) # here 0 means the your device's camera\n",
    "    # loop to catupre the frames and ret \n",
    "    while cap_vid.isOpened(): # loop as long as the camera is not closed\n",
    "        ret, frame = cap_vid.read()\n",
    "\n",
    "        # condition to check the ret value is true \n",
    "        if ret == True:\n",
    "            # resize the frames\n",
    "            frame = cv2.resize(frame, (400, 450))\n",
    "            # read the frames in the original form\n",
    "            cv2.imshow(\"Camera video\", frame)\n",
    "\n",
    "            # wait key\n",
    "            k = cv2.waitKey(1)\n",
    "            if k and k == ord(\"x\"):\n",
    "                break\n",
    "    # release  the video\n",
    "    cap_vid.release()\n",
    "    # destory the windows on closing\n",
    "    cv2.destroyAllWindows()\n",
    "# run the function\n",
    "capture_camera_vid() "
   ]
  },
  {
   "cell_type": "markdown",
   "metadata": {},
   "source": [
    "### Function to save the captured video"
   ]
  },
  {
   "cell_type": "code",
   "execution_count": 2,
   "metadata": {},
   "outputs": [],
   "source": [
    "def camera_camera_vid():\n",
    "    cap_vid = cv2.VideoCapture(0) # here 0 means the your device's camera\n",
    "\n",
    "    # variable to define the format of video to store it\n",
    "    # we have these formats ==> DVIX, XVID, MJPG, etc\n",
    "    fc = cv2.VideoWriter_fourcc(*\"XVID\")\n",
    "\n",
    "    # capture the video as an output\n",
    "    out_vid = cv2.VideoWriter(\"sample_saved_video\", fc, 20.0, (400, 500)) # here we are saving the captured fc video\n",
    "    # 20.0 is the playback speed\n",
    "    # (400, 500) width and height\n",
    "\n",
    "    # loop to catupre the frames and ret \n",
    "    while cap_vid.isOpened(): # loop as long as the camera is not closed\n",
    "        ret, frame = cap_vid.read()\n",
    "\n",
    "        # condition to check the ret value is true \n",
    "        if ret == True:\n",
    "            # capture thes frames\n",
    "            # read the frames in the original form\n",
    "            cv2.imshow(\"Camera video\", frame)\n",
    "\n",
    "            # write frames in the output\n",
    "            out_vid.write(frame)\n",
    "            k = cv2.waitKey(1)\n",
    "            # wait key\n",
    "            if k and k == ord(\"x\"):\n",
    "                break\n",
    "    # release  the video\n",
    "    cap_vid.release()\n",
    "    # release the captured output\n",
    "    out_vid.release()\n",
    "    # destory the windows on closing\n",
    "    cv2.destroyAllWindows()\n",
    "# run the function\n",
    "camera_camera_vid() "
   ]
  },
  {
   "cell_type": "code",
   "execution_count": null,
   "metadata": {},
   "outputs": [],
   "source": []
  }
 ],
 "metadata": {
  "kernelspec": {
   "display_name": "Python 3",
   "language": "python",
   "name": "python3"
  },
  "language_info": {
   "codemirror_mode": {
    "name": "ipython",
    "version": 3
   },
   "file_extension": ".py",
   "mimetype": "text/x-python",
   "name": "python",
   "nbconvert_exporter": "python",
   "pygments_lexer": "ipython3",
   "version": "3.12.4"
  }
 },
 "nbformat": 4,
 "nbformat_minor": 2
}
