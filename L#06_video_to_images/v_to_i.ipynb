{
 "cells": [
  {
   "cell_type": "markdown",
   "metadata": {},
   "source": [
    "### here we will capture the images from the video \n",
    "### Sometimes for the securiity ppurpose we need to analyze each fram eof the video so it is necessary to capture the images from the video\n"
   ]
  },
  {
   "cell_type": "markdown",
   "metadata": {},
   "source": []
  },
  {
   "cell_type": "code",
   "execution_count": 1,
   "metadata": {},
   "outputs": [],
   "source": [
    "import cv2\n"
   ]
  },
  {
   "cell_type": "code",
   "execution_count": 3,
   "metadata": {},
   "outputs": [
    {
     "name": "stdout",
     "output_type": "stream",
     "text": [
      "1\n",
      "2\n",
      "3\n",
      "4\n",
      "5\n",
      "6\n",
      "7\n",
      "8\n",
      "9\n",
      "10\n",
      "11\n",
      "12\n",
      "13\n",
      "14\n",
      "15\n",
      "16\n",
      "17\n",
      "18\n",
      "19\n",
      "20\n",
      "21\n",
      "22\n",
      "23\n",
      "24\n",
      "25\n",
      "26\n",
      "27\n",
      "28\n",
      "29\n",
      "30\n",
      "31\n",
      "32\n",
      "33\n",
      "34\n",
      "35\n",
      "36\n",
      "37\n",
      "38\n",
      "39\n",
      "40\n",
      "41\n",
      "42\n",
      "43\n",
      "44\n",
      "45\n",
      "46\n",
      "47\n",
      "48\n",
      "49\n",
      "50\n",
      "51\n",
      "52\n",
      "53\n",
      "54\n",
      "55\n",
      "56\n",
      "57\n",
      "58\n",
      "59\n",
      "60\n",
      "61\n",
      "62\n"
     ]
    }
   ],
   "source": [
    "def cap_imgs(path):\n",
    "    cap_vid = cv2.VideoCapture(path)\n",
    "    # read the video\n",
    "    ret, frame = cap_vid.read()\n",
    "    count = 0 # to keep track of the captured frames\n",
    "    while  True:\n",
    "        # capture and save the image in the location below\n",
    "        cv2.imwrite(r\"D:\\complete ML\\Computer_vision\\L#06_video_to_images\\frames\\image%d.jpg\"%count, frame) # here % is given to add the number of image captured\n",
    "        # read the frames per second\n",
    "        cap_vid.set(cv2.CAP_PROP_POS_MSEC,(count*100)) # multiplied by 100 bcz i one second is equal to 100 mili secs\n",
    "        # read again after the first captures\n",
    "        ret, frame  = cap_vid.read()\n",
    "        cv2.imshow(\"response\", frame)\n",
    "\n",
    "        count+=1\n",
    "        print(count)\n",
    "        if cv2.waitKey(1)  == ord(\"x\"):\n",
    "            break\n",
    "            cv2.destroyAllWindows()\n",
    "    cap_vid.release()\n",
    "    cv2.destroyAllWindows()\n",
    "path = r\"D:\\complete ML\\Computer_vision\\L#06_video_to_images\\smaple_walking.mp4\"\n",
    "cap_imgs(path)"
   ]
  },
  {
   "cell_type": "code",
   "execution_count": null,
   "metadata": {},
   "outputs": [],
   "source": []
  }
 ],
 "metadata": {
  "kernelspec": {
   "display_name": "Python 3",
   "language": "python",
   "name": "python3"
  },
  "language_info": {
   "codemirror_mode": {
    "name": "ipython",
    "version": 3
   },
   "file_extension": ".py",
   "mimetype": "text/x-python",
   "name": "python",
   "nbconvert_exporter": "python",
   "pygments_lexer": "ipython3",
   "version": "3.12.4"
  }
 },
 "nbformat": 4,
 "nbformat_minor": 2
}
