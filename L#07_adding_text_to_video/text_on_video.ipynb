{
 "cells": [
  {
   "cell_type": "markdown",
   "metadata": {},
   "source": [
    "### in this notebook we will add text on the current video\n",
    "### it is common to havve data and time on the live video camera"
   ]
  },
  {
   "cell_type": "markdown",
   "metadata": {},
   "source": []
  },
  {
   "cell_type": "code",
   "execution_count": 1,
   "metadata": {},
   "outputs": [],
   "source": [
    "import cv2\n",
    "import datetime"
   ]
  },
  {
   "cell_type": "markdown",
   "metadata": {},
   "source": [
    "### function to add text on the downloaded video"
   ]
  },
  {
   "cell_type": "code",
   "execution_count": 2,
   "metadata": {},
   "outputs": [],
   "source": [
    "def text_on_vid(path):\n",
    "    cap_vid  = cv2.VideoCapture(path)\n",
    "    while cap_vid.isOpened():\n",
    "        # read the frames\n",
    "        ret, frame = cap_vid.read()\n",
    "        # resize\n",
    "        frame = cv2.resize(frame, (600, 500))\n",
    "\n",
    "        # define the starting means y-axis and ending points means x-axis\n",
    "        start = 10\n",
    "        end = 20 \n",
    "        # condition\n",
    "        if ret == True:\n",
    "\n",
    "            # define the font\n",
    "            font = cv2.FONT_HERSHEY_COMPLEX_SMALL # font style\n",
    "            # size of the font\n",
    "            f_size = 1\n",
    "            # line thickness\n",
    "            thickness = 1\n",
    "            # color of the text in BGR\n",
    "            color_bgr = (1, 155, 255)\n",
    "            # line format\n",
    "            line_form = cv2.LINE_AA\n",
    "\n",
    "\n",
    "            text = \"Hello! people ares walking here normally\"\n",
    "            # now we have to put the text on the each frame\n",
    "            frame = cv2.putText(frame, text, (start, end), font, f_size, color_bgr, thickness)\n",
    "            \n",
    "            # display the frames\n",
    "            cv2.imshow(\"text on video\",frame)\n",
    "\n",
    "            if cv2.waitKey(25) == ord(\"x\"): # here 25 means the normal speed of the video\n",
    "                break\n",
    "        else:\n",
    "            break\n",
    "\n",
    "    # release\n",
    "    cap_vid.release()\n",
    "    cv2.destroyAllWindows()\n",
    "\n",
    "path = r\"D:\\complete ML\\Computer_vision\\L#07_adding_text_to_video\\smaple_walking.mp4\"\n",
    "text_on_vid(path)\n"
   ]
  },
  {
   "cell_type": "markdown",
   "metadata": {},
   "source": [
    "### function to display the live video recording with data and time mentioned"
   ]
  },
  {
   "cell_type": "code",
   "execution_count": 4,
   "metadata": {},
   "outputs": [],
   "source": [
    "def live_resc():\n",
    "    cap_vid = cv2.VideoCapture(0) # here 0 is passed to access the device's camera\n",
    "    while cap_vid.isOpened():\n",
    "        # read the frames\n",
    "        ret, frame = cap_vid.read()\n",
    "        # resize\n",
    "        frame = cv2.resize(frame, (600, 500))\n",
    "\n",
    "        # define the starting means y-axis and ending points means x-axis\n",
    "        start = 10\n",
    "        end = 20 \n",
    "        # condition\n",
    "        if ret == True:\n",
    "\n",
    "            # define the font\n",
    "            font = cv2.FONT_HERSHEY_COMPLEX_SMALL # font style\n",
    "            # size of the font\n",
    "            f_size = 1\n",
    "            # line thickness\n",
    "            thickness = 1\n",
    "            # color of the text in BGR\n",
    "            color_bgr = (1, 155, 255)\n",
    "            # line format\n",
    "            line_form = cv2.LINE_AA\n",
    "\n",
    "\n",
    "            text = \"Date: \"+str(datetime.datetime.now())\n",
    "            # now we have to put the text on the each frame\n",
    "            frame = cv2.putText(frame, text, (start, end), font, f_size, color_bgr, thickness)\n",
    "            \n",
    "            # display the frames\n",
    "            cv2.imshow(\"text on video\",frame)\n",
    "\n",
    "            if cv2.waitKey(25) == ord(\"x\"): # here 25 means the normal speed of the video\n",
    "                break\n",
    "        else:\n",
    "            break\n",
    "\n",
    "    # release\n",
    "    cap_vid.release()\n",
    "    cv2.destroyAllWindows()\n",
    "live_resc()\n",
    "    "
   ]
  },
  {
   "cell_type": "code",
   "execution_count": null,
   "metadata": {},
   "outputs": [],
   "source": []
  }
 ],
 "metadata": {
  "kernelspec": {
   "display_name": "Python 3",
   "language": "python",
   "name": "python3"
  },
  "language_info": {
   "codemirror_mode": {
    "name": "ipython",
    "version": 3
   },
   "file_extension": ".py",
   "mimetype": "text/x-python",
   "name": "python",
   "nbconvert_exporter": "python",
   "pygments_lexer": "ipython3",
   "version": "3.12.4"
  }
 },
 "nbformat": 4,
 "nbformat_minor": 2
}
