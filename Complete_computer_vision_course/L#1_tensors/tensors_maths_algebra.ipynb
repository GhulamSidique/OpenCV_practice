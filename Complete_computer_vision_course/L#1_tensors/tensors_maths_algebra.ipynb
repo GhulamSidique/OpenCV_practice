{
 "cells": [
  {
   "cell_type": "markdown",
   "metadata": {},
   "source": [
    "### In this notebook we will practice the tensors using tensorflow"
   ]
  },
  {
   "cell_type": "code",
   "execution_count": 1,
   "metadata": {},
   "outputs": [
    {
     "name": "stdout",
     "output_type": "stream",
     "text": [
      "WARNING:tensorflow:From c:\\Python311\\Lib\\site-packages\\keras\\src\\losses.py:2976: The name tf.losses.sparse_softmax_cross_entropy is deprecated. Please use tf.compat.v1.losses.sparse_softmax_cross_entropy instead.\n",
      "\n"
     ]
    }
   ],
   "source": [
    "# import libraries\n",
    "import tensorflow as tf\n",
    "import numpy as np"
   ]
  },
  {
   "cell_type": "code",
   "execution_count": 2,
   "metadata": {},
   "outputs": [
    {
     "name": "stdout",
     "output_type": "stream",
     "text": [
      "0D tensor is\n",
      " tf.Tensor(4, shape=(), dtype=int32)\n",
      "==================================================\n",
      "1D tensor is\n",
      " tf.Tensor([1 2 3 4 5], shape=(5,), dtype=int32)\n",
      "==================================================\n",
      "2D tensor is\n",
      " tf.Tensor(\n",
      "[[1 2 3 4]\n",
      " [4 3 2 1]], shape=(2, 4), dtype=int32)\n",
      "==================================================\n",
      "3D tensor is\n",
      " tf.Tensor(\n",
      "[[[ 1  2  3  4]\n",
      "  [ 4  3  2  1]]\n",
      "\n",
      " [[-1  2  5  8]\n",
      "  [ 5  6 78  9]]], shape=(2, 2, 4), dtype=int32)\n"
     ]
    }
   ],
   "source": [
    "# creating 0d tensor\n",
    "tensor_zero=tf.constant(4)\n",
    "print(\"0D tensor is\\n\",tensor_zero)\n",
    "print(\"=\"*50)\n",
    "\n",
    "# creating 1d tensors\n",
    "tensor_1d=tf.constant([1,2,3,4,5])\n",
    "print(\"1D tensor is\\n\",tensor_1d)\n",
    "print(\"=\"*50)\n",
    "\n",
    "# creating 2d tensors\n",
    "tensor_2d=tf.constant([[1,2,3,4], [4,3,2,1]])\n",
    "print(\"2D tensor is\\n\", tensor_2d)\n",
    "print(\"=\"*50)\n",
    "\n",
    "# creating 3d tensors\n",
    "tensor_3d=tf.constant([\n",
    "    [[1,2,3,4], \n",
    "    [4,3,2,1]],\n",
    "\n",
    "    [[-1,2,5,8],\n",
    "    [5,6,78,9]]\n",
    "])\n",
    "print(\"3D tensor is\\n\",tensor_3d)"
   ]
  },
  {
   "cell_type": "markdown",
   "metadata": {},
   "source": [
    "### Multidimensional tensors"
   ]
  },
  {
   "cell_type": "code",
   "execution_count": 3,
   "metadata": {},
   "outputs": [
    {
     "name": "stdout",
     "output_type": "stream",
     "text": [
      "4D tensor is\n",
      " tf.Tensor(\n",
      "[[[[   1  200    3    4]\n",
      "   [   4    3  200    1]]\n",
      "\n",
      "  [[-100    2    5    8]\n",
      "   [   5    6   78  900]]]\n",
      "\n",
      "\n",
      " [[[   1    2    3    4]\n",
      "   [   4    3    2    1]]\n",
      "\n",
      "  [[  -1    2    5    8]\n",
      "   [   5    6   78    9]]]], shape=(2, 2, 2, 4), dtype=int32)\n"
     ]
    }
   ],
   "source": [
    "# here we will create tensors more than 3\n",
    "tensor_nd=tf.constant([\n",
    "    [\n",
    "    [[1,200,3,4], \n",
    "    [4,3,200,1]],\n",
    "\n",
    "    [[-100,2,5,8],\n",
    "    [5,6,78,900]]\n",
    "    ],\n",
    "\n",
    "    [\n",
    "    [[1,2,3,4], \n",
    "    [4,3,2,1]],\n",
    "\n",
    "    [[-1,2,5,8],\n",
    "    [5,6,78,9]]\n",
    "    ]\n",
    "])\n",
    "print(\"4D tensor is\\n\", tensor_nd)"
   ]
  },
  {
   "cell_type": "markdown",
   "metadata": {},
   "source": [
    "### converting numpy array into tensors"
   ]
  },
  {
   "cell_type": "code",
   "execution_count": 4,
   "metadata": {},
   "outputs": [
    {
     "name": "stdout",
     "output_type": "stream",
     "text": [
      "Original array is\n",
      " [1 2 3]\n",
      "--------------------------------------------------\n",
      "Converted tensor is \n",
      " tf.Tensor([1 2 3], shape=(3,), dtype=int32)\n"
     ]
    }
   ],
   "source": [
    "# creating a numpy array \n",
    "np_array=np.array([1,2,3])\n",
    "print(\"Original array is\\n\", np_array)\n",
    "print(\"-\"*50)\n",
    "\n",
    "# now converting above array into tensor\n",
    "to_tensor=tf.convert_to_tensor(np_array)\n",
    "print(\"Converted tensor is \\n\", to_tensor)"
   ]
  },
  {
   "cell_type": "markdown",
   "metadata": {},
   "source": [
    "### eye method: It is used to create an identity matrix of given size"
   ]
  },
  {
   "cell_type": "code",
   "execution_count": 5,
   "metadata": {},
   "outputs": [
    {
     "name": "stdout",
     "output_type": "stream",
     "text": [
      "tf.Tensor(\n",
      "[[1. 0. 0.]\n",
      " [0. 1. 0.]\n",
      " [0. 0. 1.]], shape=(3, 3), dtype=float32)\n",
      "--------------------------------------------------\n",
      "tf.Tensor(\n",
      "[[5. 0. 0.]\n",
      " [0. 5. 0.]\n",
      " [0. 0. 5.]], shape=(3, 3), dtype=float32)\n",
      "--------------------------------------------------\n",
      "tf.Tensor(\n",
      "[[ True False False False]\n",
      " [False  True False False]\n",
      " [False False  True False]\n",
      " [False False False  True]\n",
      " [False False False False]], shape=(5, 4), dtype=bool)\n",
      "--------------------------------------------------\n",
      "tf.Tensor(\n",
      "[[[1. 0. 0. 0.]\n",
      "  [0. 1. 0. 0.]\n",
      "  [0. 0. 1. 0.]]\n",
      "\n",
      " [[1. 0. 0. 0.]\n",
      "  [0. 1. 0. 0.]\n",
      "  [0. 0. 1. 0.]]\n",
      "\n",
      " [[1. 0. 0. 0.]\n",
      "  [0. 1. 0. 0.]\n",
      "  [0. 0. 1. 0.]]], shape=(3, 3, 4), dtype=float32)\n",
      "--------------------------------------------------\n"
     ]
    }
   ],
   "source": [
    "# creating an identity matrix using eye method\n",
    "matrix_using_eye=tf.eye(\n",
    "    num_rows=3, # number of rows specify the number of elements\n",
    "    # row define the number of dimensions\n",
    "    num_columns=None # columns \n",
    "    # here None means there will be the same number of columns as the number of rows\n",
    ")\n",
    "print(matrix_using_eye)\n",
    "print(\"-\"*50)\n",
    "\n",
    "# to print different number in diagonals\n",
    "print(5*matrix_using_eye)\n",
    "print(\"-\"*50)\n",
    "\n",
    "# now making some changes in eye method\n",
    "matrix_using_eye_2=tf.eye(\n",
    "    num_rows=5,\n",
    "    num_columns=4,\n",
    "    dtype=tf.dtypes.bool # will create boolean type matrix\n",
    "    # we can specify any dtype here\n",
    ")\n",
    "print(matrix_using_eye_2)\n",
    "print(\"-\"*50)\n",
    "\n",
    "# now creating matrix including batch number as well\n",
    "# batch number determines the number of matrix we need\n",
    "matrix_using_eye_3=tf.eye(\n",
    "    num_rows=3,\n",
    "    num_columns=4,\n",
    "    batch_shape=[3,] # means there will be three matrices\n",
    ")\n",
    "print(matrix_using_eye_3)\n",
    "print(\"-\"*50)"
   ]
  },
  {
   "cell_type": "markdown",
   "metadata": {},
   "source": [
    "### fill method: it is used to create a tensor of any order by passing a value"
   ]
  },
  {
   "cell_type": "code",
   "execution_count": 6,
   "metadata": {},
   "outputs": [
    {
     "name": "stdout",
     "output_type": "stream",
     "text": [
      "tf.Tensor(\n",
      "[[5 5 5]\n",
      " [5 5 5]], shape=(2, 3), dtype=int32)\n"
     ]
    }
   ],
   "source": [
    "# creating tensor using fill method\n",
    "matrix_using_fill_1=tf.fill([2,3], 5) # will create 2*3 matrix with 5 as elements\n",
    "print(matrix_using_fill_1)"
   ]
  },
  {
   "cell_type": "markdown",
   "metadata": {},
   "source": [
    "### ones method= it is used to create a matrix with all values equal to 1"
   ]
  },
  {
   "cell_type": "code",
   "execution_count": 7,
   "metadata": {},
   "outputs": [
    {
     "name": "stdout",
     "output_type": "stream",
     "text": [
      "tf.Tensor(\n",
      "[[[1. 1.]\n",
      "  [1. 1.]\n",
      "  [1. 1.]]\n",
      "\n",
      " [[1. 1.]\n",
      "  [1. 1.]\n",
      "  [1. 1.]]], shape=(2, 3, 2), dtype=float32)\n"
     ]
    }
   ],
   "source": [
    "matrix_using_ones=tf.ones([2,3,2]) # will create a 3d matrix of ones\n",
    "# we can also define the dtype inside it\n",
    "print(matrix_using_ones)"
   ]
  },
  {
   "cell_type": "markdown",
   "metadata": {},
   "source": [
    "### ones_like method : it is used to change the existing matrix values as 1"
   ]
  },
  {
   "cell_type": "code",
   "execution_count": 8,
   "metadata": {},
   "outputs": [
    {
     "name": "stdout",
     "output_type": "stream",
     "text": [
      "2D tensor is\n",
      " tf.Tensor(\n",
      "[[1 2 3 4]\n",
      " [4 3 2 1]], shape=(2, 4), dtype=int32)\n",
      "==================================================\n",
      "The changed matrix is\n",
      " tf.Tensor(\n",
      "[[1 1 1 1]\n",
      " [1 1 1 1]], shape=(2, 4), dtype=int32)\n"
     ]
    }
   ],
   "source": [
    "# from above code we have following matrix with different values\n",
    "print(\"2D tensor is\\n\", tensor_2d)\n",
    "print(\"=\"*50)\n",
    "\n",
    "# now changing above matrix values into 1\n",
    "matrix_using_like_ones=tf.ones_like(tensor_2d)\n",
    "print(\"The changed matrix is\\n\", matrix_using_like_ones)"
   ]
  },
  {
   "cell_type": "markdown",
   "metadata": {},
   "source": [
    "### zeros : it is used to create a matrix with all elements as 0"
   ]
  },
  {
   "cell_type": "code",
   "execution_count": 9,
   "metadata": {},
   "outputs": [
    {
     "name": "stdout",
     "output_type": "stream",
     "text": [
      "tf.Tensor(\n",
      "[[0. 0. 0.]\n",
      " [0. 0. 0.]], shape=(2, 3), dtype=float32)\n"
     ]
    }
   ],
   "source": [
    "matrix_using_zeros=tf.zeros([2,3]) # will create a 2*3 matrix with all elements as 0\n",
    "print(matrix_using_zeros)"
   ]
  },
  {
   "cell_type": "markdown",
   "metadata": {},
   "source": [
    "### zeros_like: it is used to change the values of a matrix into 0"
   ]
  },
  {
   "cell_type": "code",
   "execution_count": 10,
   "metadata": {},
   "outputs": [
    {
     "name": "stdout",
     "output_type": "stream",
     "text": [
      "2D tensor is\n",
      " tf.Tensor(\n",
      "[[1 2 3 4]\n",
      " [4 3 2 1]], shape=(2, 4), dtype=int32)\n",
      "==================================================\n",
      "The changed matrix is\n",
      " tf.Tensor(\n",
      "[[0 0 0 0]\n",
      " [0 0 0 0]], shape=(2, 4), dtype=int32)\n"
     ]
    }
   ],
   "source": [
    "# from above code we have following matrix with different values\n",
    "print(\"2D tensor is\\n\", tensor_2d)\n",
    "print(\"=\"*50)\n",
    "\n",
    "# now changing above matrix values into 0\n",
    "matrix_using_like_zeros=tf.zeros_like(tensor_2d)\n",
    "print(\"The changed matrix is\\n\", matrix_using_like_zeros)"
   ]
  },
  {
   "cell_type": "markdown",
   "metadata": {},
   "source": [
    "### rank : it is the number of dimensions of a matrix"
   ]
  },
  {
   "cell_type": "code",
   "execution_count": 11,
   "metadata": {},
   "outputs": [
    {
     "name": "stdout",
     "output_type": "stream",
     "text": [
      "2D tensor is\n",
      " tf.Tensor(\n",
      "[[1 2 3 4]\n",
      " [4 3 2 1]], shape=(2, 4), dtype=int32)\n",
      "==================================================\n",
      "The rank of above matrix is\n",
      " tf.Tensor(2, shape=(), dtype=int32)\n"
     ]
    }
   ],
   "source": [
    "# from above code we have following matrix with different values\n",
    "print(\"2D tensor is\\n\", tensor_2d)\n",
    "print(\"=\"*50)\n",
    "\n",
    "# now checking the rank of above matrix \n",
    "rank_of_matrix=tf.rank(tensor_2d)\n",
    "print(\"The rank of above matrix is\\n\", rank_of_matrix) # rank must be 2 as this is a 2d tensor"
   ]
  },
  {
   "cell_type": "markdown",
   "metadata": {},
   "source": [
    "### size : it determines the total number of elements present in a tensor"
   ]
  },
  {
   "cell_type": "code",
   "execution_count": 12,
   "metadata": {},
   "outputs": [
    {
     "name": "stdout",
     "output_type": "stream",
     "text": [
      "2D tensor is\n",
      " tf.Tensor(\n",
      "[[1 2 3 4]\n",
      " [4 3 2 1]], shape=(2, 4), dtype=int32)\n",
      "==================================================\n",
      "The size of above tensor is\n",
      " tf.Tensor(8, shape=(), dtype=int32)\n"
     ]
    }
   ],
   "source": [
    "# from above code we have following matrix with different values\n",
    "print(\"2D tensor is\\n\", tensor_2d)\n",
    "print(\"=\"*50)\n",
    "\n",
    "# now determining the size of above tensor\n",
    "size_of_tensor=tf.size(tensor_2d)\n",
    "print(\"The size of above tensor is\\n\", size_of_tensor)"
   ]
  },
  {
   "cell_type": "markdown",
   "metadata": {},
   "source": [
    "### random.normal : it is used to create a tensor with the random values"
   ]
  },
  {
   "cell_type": "code",
   "execution_count": 13,
   "metadata": {},
   "outputs": [
    {
     "name": "stdout",
     "output_type": "stream",
     "text": [
      "The tensor with random values is\n",
      " tf.Tensor(\n",
      "[[ 99.45395   99.30597  100.191246  99.54784 ]\n",
      " [100.65318   99.27182   99.900635 100.17094 ]\n",
      " [101.1785    99.29507   99.962814 100.86732 ]], shape=(3, 4), dtype=float32)\n"
     ]
    }
   ],
   "source": [
    "# creating a tensor with random values\n",
    "tensor_random=tf.random.normal(\n",
    "    shape=[3,4],\n",
    "    mean=100.0, # here mean means we need values close to it\n",
    "    # dtype=tf.dtypes.int32\n",
    ")\n",
    "print(\"The tensor with random values is\\n\", tensor_random)"
   ]
  },
  {
   "cell_type": "markdown",
   "metadata": {},
   "source": [
    "### random.uniform: it is also used to create a tensor with random values"
   ]
  },
  {
   "cell_type": "code",
   "execution_count": 14,
   "metadata": {},
   "outputs": [
    {
     "name": "stdout",
     "output_type": "stream",
     "text": [
      "The tensor with random values is\n",
      " tf.Tensor(\n",
      "[[ 4.774497  12.35201    5.759293 ]\n",
      " [18.638819   6.5293083 10.340546 ]\n",
      " [16.206982   4.660458  13.903197 ]\n",
      " [16.984875   2.1746283  8.484016 ]], shape=(4, 3), dtype=float32)\n"
     ]
    }
   ],
   "source": [
    "tensor_random_uni=tf.random.uniform(\n",
    "    [4,3], # will create a 4*3 matrix\n",
    "    minval=1, # defines the minimum start range\n",
    "    maxval=20, # defines the maximum end range\n",
    ")\n",
    "print(\"The tensor with random values is\\n\", tensor_random_uni)"
   ]
  },
  {
   "cell_type": "markdown",
   "metadata": {},
   "source": [
    "## Indexing in tensors"
   ]
  },
  {
   "cell_type": "code",
   "execution_count": 15,
   "metadata": {},
   "outputs": [
    {
     "name": "stdout",
     "output_type": "stream",
     "text": [
      "The first five elements form above tensor are\n",
      " tf.Tensor([1 2 3 4 5], shape=(5,), dtype=int32)\n",
      "==================================================\n",
      "The first five elements with step size 2 are\n",
      " tf.Tensor([1 3 5], shape=(3,), dtype=int32)\n"
     ]
    }
   ],
   "source": [
    "tensor=tf.constant([1,2,3,4,5,6,7,8,9])\n",
    "# to get the first 5 elements\n",
    "print(\"The first five elements form above tensor are\\n\", tensor[0:5])\n",
    "print(\"=\"*50)\n",
    "\n",
    "# getting elements with some step size\n",
    "print(\"The first five elements with step size 2 are\\n\", tensor[0:5:2])"
   ]
  },
  {
   "cell_type": "code",
   "execution_count": 16,
   "metadata": {},
   "outputs": [
    {
     "name": "stdout",
     "output_type": "stream",
     "text": [
      "The first 3 rows are\n",
      " tf.Tensor(\n",
      "[[ 1  2  3]\n",
      " [ 2  1 45]], shape=(2, 3), dtype=int32)\n",
      "--------------------------------------------------\n",
      "The 3rd row is\n",
      " tf.Tensor([7 5 8 9], shape=(4,), dtype=int32)\n",
      "--------------------------------------------------\n",
      "The 3rd row by skipping a column is\n",
      " tf.Tensor([5 8 9], shape=(3,), dtype=int32)\n",
      "--------------------------------------------------\n"
     ]
    }
   ],
   "source": [
    "# indexing in higher than 1D tensor\n",
    "higher_tensor=tf.constant([\n",
    "    [1,2,3,0],\n",
    "    [2,1,45,8],\n",
    "    [7,5,8,9],\n",
    "    [5,4,6,99]\n",
    "])\n",
    "# getting the values of the first 2 rows\n",
    "# In 2d or higher we use following formula to slice the values or rows or columns\n",
    "# [rows , columns]\n",
    "print(\"The first 3 rows are\\n\", higher_tensor[0:2,0:3]) # will take 2 rows with 3 columns\n",
    "print(\"-\"*50)\n",
    "\n",
    "# taking only single row with columns\n",
    "print(\"The 3rd row is\\n\", higher_tensor[2 , :])\n",
    "print(\"-\"*50)\n",
    "\n",
    "# skipping a column from above 3rd row tensor\n",
    "print(\"The 3rd row by skipping a column is\\n\", higher_tensor[2 , 1:]) # will take columns from 1st index to the rest by skipping 0th index\n",
    "print(\"-\"*50)"
   ]
  },
  {
   "cell_type": "markdown",
   "metadata": {},
   "source": [
    "## tf.divide : used to divide two tensors and return the result\n",
    "## tf.math.divide_no_nan : used to divide two tensors and return the result without printing infinity when divided by 0"
   ]
  },
  {
   "cell_type": "code",
   "execution_count": 17,
   "metadata": {},
   "outputs": [
    {
     "data": {
      "text/plain": [
       "<tf.Tensor: shape=(6,), dtype=float64, numpy=array([1.  , 0.  , 2.25, 3.  , 0.  , 5.  ])>"
      ]
     },
     "execution_count": 17,
     "metadata": {},
     "output_type": "execute_result"
    }
   ],
   "source": [
    "# creating two tensors\n",
    "tensor_1=tf.constant([3,6,9,12,11,15])\n",
    "tensor_2=tf.constant([3,2,4,4,2,3])\n",
    "\n",
    "# now dividing\n",
    "tensor_div=tf.divide(tensor_1, tensor_2)\n",
    "tensor_div\n",
    "\n",
    "# by divide_no_nan\n",
    "tensor_3=tf.constant([3,0,4,4,0,3])\n",
    "\n",
    "# performing division\n",
    "tesnor_div_no_nan=tf.math.divide_no_nan(tensor_1, tensor_3)\n",
    "tesnor_div_no_nan # this will print 0 instead of infinity where division by 0 is performed"
   ]
  },
  {
   "cell_type": "markdown",
   "metadata": {},
   "source": [
    "## tf.add : used to add two tensors\n",
    "## tf.multiply : used to multiply two tensors of any size\n",
    "## tf.maximum : used to print the tensor having the max values and will print the shape of the tensor\n",
    "## tf.minimum : used to print the tensor having the min values and will print the shape of the tensor\n",
    "## tf.argmax : used to print the position of the max value of a tensor\n",
    "## tf.argmin : used to print the position of the min value of a tensor\n",
    "## tf.pow : used to calculate the power of the tensor\n",
    "## tf.reduce_sum : used to add up all the elements of any dimensional tensor\n",
    "## tf.reduce_max : used to print the max value of any dimensional tensor\n",
    "## tf.reduce_min : used to print the min value of any dimensional tensor\n",
    "## tf.reduce_mean : used to print the mean of a tensor\n",
    "## tf.reduce_std : used to print the standard deviation of tensor\n",
    "## tf.reduce_prod : used to print the product of elements of a tensor\n",
    "## tf.top_k : used to print the max/top value(s) of any dimensional tensor along with its/their positions in separate array"
   ]
  },
  {
   "cell_type": "code",
   "execution_count": 18,
   "metadata": {},
   "outputs": [
    {
     "name": "stdout",
     "output_type": "stream",
     "text": [
      "the multiplication is \n",
      " tf.Tensor([ 9 18 27 36 33 45], shape=(6,), dtype=int32)\n",
      "the max tensor is \n",
      " tf.Tensor([ 3  6  9 12 11 15], shape=(6,), dtype=int32)\n",
      "--------------------------------------------------\n",
      "the min tensor is \n",
      " tf.Tensor([3 2 4 4 2 3], shape=(6,), dtype=int32)\n",
      "--------------------------------------------------\n",
      "tf.Tensor([ 3  6  9 12 11 15], shape=(6,), dtype=int32)\n",
      "the max value is \n",
      " tf.Tensor(5, shape=(), dtype=int64)\n",
      "--------------------------------------------------\n",
      "the power of tensor is \n",
      " tf.Tensor([  27  216  729 1728 1331 3375], shape=(6,), dtype=int32)\n",
      "--------------------------------------------------\n",
      "the reduced sum of tensor is \n",
      " tf.Tensor(132, shape=(), dtype=int32)\n",
      "--------------------------------------------------\n",
      "the reduced max of a tensor is \n",
      " tf.Tensor(78, shape=(), dtype=int32)\n",
      "--------------------------------------------------\n",
      "the reduced min of a tensor is \n",
      " tf.Tensor(-1, shape=(), dtype=int32)\n",
      "--------------------------------------------------\n",
      "The reduced mean of the tensor is \n",
      " tf.Tensor(\n",
      "[[ 0  2  4  6]\n",
      " [ 4  4 40  5]], shape=(2, 4), dtype=int32)\n",
      "--------------------------------------------------\n",
      "the reduced product of a 2d tensor is \n",
      " tf.Tensor(576, shape=(), dtype=int32)\n",
      "--------------------------------------------------\n",
      "The top values of 2d tensor are \n",
      " TopKV2(values=<tf.Tensor: shape=(2, 1), dtype=int32, numpy=\n",
      "array([[4],\n",
      "       [4]])>, indices=<tf.Tensor: shape=(2, 1), dtype=int32, numpy=\n",
      "array([[3],\n",
      "       [0]])>)\n",
      "--------------------------------------------------\n"
     ]
    }
   ],
   "source": [
    "# from previous cell\n",
    "tensor_add=tf.add(tensor_1, tensor_2) # we can also pass a single element in list and it will be added to all elements of other tensor\n",
    "tensor_add # will return the addition of previou two tensors\n",
    "\n",
    "# multiplication\n",
    "tensor_4=tf.constant([3])\n",
    "tensor_mul=tf.multiply(tensor_1, tensor_4) # 8 will be multiplied to all elements of tensor_1\n",
    "print(\"the multiplication is \\n\",tensor_mul)\n",
    "\n",
    "# max tensor \n",
    "print(\"the max tensor is \\n\",tf.maximum(tensor_1, tensor_2)) # will print the max tensor and position of the max value\n",
    "print(\"-\"*50)\n",
    "\n",
    "# min tensor\n",
    "print(\"the min tensor is \\n\",tf.minimum(tensor_1, tensor_2))\n",
    "print(\"-\"*50)\n",
    "\n",
    "# arg_max will tell the positon of the max value of a tensor\n",
    "print(tensor_1) # print the original tensor to display the elements\n",
    "print(\"the max value is \\n\",tf.argmax(tensor_1)) \n",
    "print(\"-\"*50)\n",
    "\n",
    "# power of tensor\n",
    "print(\"the power of tensor is \\n\",tf.pow(tensor_1, tensor_4))\n",
    "print(\"-\"*50)\n",
    "\n",
    "# reduce_sum\n",
    "print(\"the reduced sum of tensor is \\n\",tf.reduce_sum(tensor_3d, axis=None, keepdims=False, name=None)) # will add all the elements of 3d tensor\n",
    "# we can specify the axis as well\n",
    "# axis = 0 means column sum and 1 means rows will be summed up \n",
    "print(\"-\"*50)\n",
    "\n",
    "# reduce_max\n",
    "print(\"the reduced max of a tensor is \\n\",tf.reduce_max(tensor_3d, axis=None, keepdims=False, name=None))\n",
    "print(\"-\"*50)\n",
    "\n",
    "# reduce_min\n",
    "print(\"the reduced min of a tensor is \\n\",tf.reduce_min(tensor_3d, axis=None, keepdims=False, name=None))\n",
    "print(\"-\"*50)\n",
    "\n",
    "# reduce_mean\n",
    "print(\"The reduced mean of the tensor is \\n\", tf.reduce_mean(tensor_3d, axis=0, keepdims=False, name=None))\n",
    "# will print the mean of columns only\n",
    "print(\"-\"*50)\n",
    "\n",
    "# reduce_prod\n",
    "print(\"the reduced product of a 2d tensor is \\n\", tf.reduce_prod(tensor_2d, axis=None, keepdims=False, name=None))\n",
    "print(\"-\"*50)\n",
    "\n",
    "# top_k\n",
    "print(\"The top values of 2d tensor are \\n\", tf.math.top_k(tensor_2d, k=1)) # means 1 value form each tensor\n",
    "print(\"-\"*50)\n",
    "\n"
   ]
  },
  {
   "cell_type": "markdown",
   "metadata": {},
   "source": [
    "# lnear algebra using tensorflow"
   ]
  },
  {
   "cell_type": "markdown",
   "metadata": {},
   "source": [
    "## tf.linalg.matmul : used to multiply two matrices (matrix multiplication rule is also applied)\n",
    "## tf.transpose : transpose of a matrix\n",
    "## tf.linalg.inv : used to find the invers of a matix (order must be the same)"
   ]
  },
  {
   "cell_type": "code",
   "execution_count": 19,
   "metadata": {},
   "outputs": [
    {
     "name": "stdout",
     "output_type": "stream",
     "text": [
      "The product of two matrices is \n",
      " tf.Tensor(\n",
      "[[ 8 15 18]\n",
      " [37 66 75]], shape=(2, 3), dtype=int32)\n",
      "============================================================\n",
      "The transpose of mat_2 is\n",
      " tf.Tensor(\n",
      "[[6 1 0]\n",
      " [5 5 2]\n",
      " [2 8 3]], shape=(3, 3), dtype=int32)\n",
      "============================================================\n",
      "The inverse of matrix is \n",
      " tf.Tensor(\n",
      "[[ 0.05882354  0.64705884 -1.7647057 ]\n",
      " [ 0.17647058 -1.0588235   2.705882  ]\n",
      " [-0.11764705  0.7058823  -1.4705881 ]], shape=(3, 3), dtype=float32)\n",
      "============================================================\n"
     ]
    }
   ],
   "source": [
    "# craeting two different matrice\n",
    "# columns of the first matrix must match the rows of the second matrix\n",
    "mat_1=tf.constant([\n",
    "    [1,2,0],\n",
    "    [5,7,3]])\n",
    "\n",
    "mat_2=tf.constant([\n",
    "    [6,5,2],\n",
    "    [1,5,8],\n",
    "    [0,2,3]])\n",
    "\n",
    "mat_3=tf.constant([\n",
    "    [6,5,2],\n",
    "    [1,5,8]])\n",
    "\n",
    "# matmul\n",
    "print(\"The product of two matrices is \\n\", tf.linalg.matmul(mat_1, mat_2, transpose_a=False, transpose_b=False, adjoint_a=False, adjoint_b=False, a_is_sparse=False, b_is_sparse=False, output_type=None, name=None))\n",
    "# we can make any of the optional values to True according to our requirements\n",
    "print(\"=\"*60)\n",
    "\n",
    "# tf.transpose\n",
    "print(\"The transpose of mat_2 is\\n\", tf.transpose(mat_2))\n",
    "print(\"=\"*60)\n",
    "\n",
    "# inverse\n",
    "# we have to change the datatype of the matrix to float\n",
    "# it is necessary to change the data type from int to any other\n",
    "mat_2_float=tf.cast(mat_2, tf.float32)\n",
    "print('The inverse of matrix is \\n', tf.linalg.inv(mat_2_float))\n",
    "print(\"=\"*60)"
   ]
  },
  {
   "cell_type": "markdown",
   "metadata": {},
   "source": [
    "## einsum : used to perform matrix operations using an order of rows and columns our own choice"
   ]
  },
  {
   "cell_type": "code",
   "execution_count": 20,
   "metadata": {},
   "outputs": [
    {
     "name": "stdout",
     "output_type": "stream",
     "text": [
      "prod using tf\n",
      " tf.Tensor(\n",
      "[[ 8 15 18]\n",
      " [37 66 75]], shape=(2, 3), dtype=int32)\n",
      "\n",
      "\n",
      "The product using einsum method is \n",
      " [[ 8 15 18]\n",
      " [37 66 75]]\n",
      "==================================================\n",
      "The shape of two matrices ready for prod is\n",
      " (2, 3) (2, 3)\n",
      "since the condition of col=rows fails here\n",
      "but we can still multiply both of them using einsum as follows\n",
      "\n",
      "The prod of matrices having cols!=rows is \n",
      " [[ 6 10  0]\n",
      " [ 5 35 24]]\n",
      "==================================================\n",
      "The original matrix is\n",
      " tf.Tensor(\n",
      "[[6 5 2]\n",
      " [1 5 8]\n",
      " [0 2 3]], shape=(3, 3), dtype=int32)\n",
      "\n",
      "\n",
      "the transpose using einsum is\n",
      " [[6 1 0]\n",
      " [5 5 2]\n",
      " [2 8 3]]\n",
      "==================================================\n",
      "The sum using einsum is \n",
      " [ 7 12 13]\n"
     ]
    }
   ],
   "source": [
    "# matrix multiplication\n",
    "# from previous two matrices\n",
    "# printing the actual product using tf\n",
    "print(\"prod using tf\\n\", tf.linalg.matmul(mat_1, mat_2))\n",
    "print(\"\\n\")\n",
    "\n",
    "# 1) now printing with einsum\n",
    "print(\"The product using einsum method is \\n\", np.einsum('ij, jk -> ik', mat_1, mat_2))\n",
    "# here i means rows and j means columns\n",
    "# so for mul we need to have ij and jk means columns of the first mat = rows (j) of the second mat\n",
    "# the result will yield the ik\n",
    "print(\"=\"*50)\n",
    "\n",
    "\n",
    "# 2) suppose that we want to find the product of two matrices that does not meet the condition cols=rows\n",
    "# print the shape of matrices to see the cols and rows\n",
    "print(\"The shape of two matrices ready for prod is\\n\", mat_1.shape, mat_3.shape)\n",
    "print(\"since the condition of col=rows fails here\")\n",
    "print(\"but we can still multiply both of them using einsum as follows\\n\")\n",
    "\n",
    "print(\"The prod of matrices having cols!=rows is \\n\", np.einsum('ij, ij -> ij', mat_1, mat_3))\n",
    "print(\"=\"*50)\n",
    "\n",
    "\n",
    "# 3) transpose using einsum\n",
    "# print the original matrix\n",
    "print(\"The original matrix is\\n\", mat_2)\n",
    "print(\"\\n\")\n",
    "# now transpose using einsum\n",
    "print(\"the transpose using einsum is\\n\", np.einsum(\"ij->ji\", mat_2))\n",
    "print(\"=\"*50)\n",
    "\n",
    "\n",
    "# 4) sum using einsum\n",
    "print(\"The sum using einsum is \\n\", np.einsum('ij->j', mat_2))\n",
    "# the sum will be column wise\n",
    "\n",
    "\n"
   ]
  },
  {
   "cell_type": "markdown",
   "metadata": {},
   "source": [
    "### tf.concat : concat two matrices together"
   ]
  },
  {
   "cell_type": "code",
   "execution_count": 21,
   "metadata": {},
   "outputs": [
    {
     "name": "stdout",
     "output_type": "stream",
     "text": [
      "(2, 3) (3, 3) (2, 3)\n",
      "The concated result of mat_1 and mat_2 is \n",
      " tf.Tensor(\n",
      "[[1 2 0 6 5 2]\n",
      " [5 7 3 1 5 8]], shape=(2, 6), dtype=int32)\n"
     ]
    }
   ],
   "source": [
    "# from frevious cell we have\n",
    "# a look at the shape/order of matrices\n",
    "print(mat_1.shape, mat_2.shape, mat_3.shape)\n",
    "print(\"The concated result of mat_1 and mat_2 is \\n\", tf.concat([mat_1, mat_3], axis=1))\n",
    "# axis=0 means concatenation across the rows and order of matrices does not matter here\n",
    "# for axis=1 the order must be the same\n",
    "\n",
    "\n"
   ]
  },
  {
   "cell_type": "markdown",
   "metadata": {},
   "source": [
    "### tf.gather : used to get a range of elements from an array without using traditional slicing"
   ]
  },
  {
   "cell_type": "code",
   "execution_count": 22,
   "metadata": {},
   "outputs": [
    {
     "name": "stdout",
     "output_type": "stream",
     "text": [
      "Tensor from previous cell is \n",
      " tf.Tensor([1 2 3 4 5], shape=(5,), dtype=int32)\n",
      "\n",
      "\n",
      "the range of values from above array is\n",
      " tf.Tensor([2 3 4], shape=(3,), dtype=int32)\n",
      "==================================================\n",
      "the original matrix is \n",
      " tf.Tensor(\n",
      "[[6 5 2]\n",
      " [1 5 8]\n",
      " [0 2 3]], shape=(3, 3), dtype=int32) \n",
      "\n",
      "The range of values is\n",
      " all elements of the first row are\n",
      " tf.Tensor([[6 5 2]], shape=(1, 3), dtype=int32) \n",
      "\n",
      "all values from the second and the third row are \n",
      " tf.Tensor(\n",
      "[[1 5 8]\n",
      " [0 2 3]], shape=(2, 3), dtype=int32) \n",
      "\n",
      "==================================================\n",
      "all column elements from 1st to the 3rd row are\n",
      " tf.Tensor(\n",
      "[[6 2]\n",
      " [1 8]\n",
      " [0 3]], shape=(3, 2), dtype=int32)\n"
     ]
    }
   ],
   "source": [
    "# from previous cell\n",
    "print(\"Tensor from previous cell is \\n\", tensor_1d)\n",
    "print(\"\\n\")\n",
    "# getting a range of values\n",
    "print(\"the range of values from above array is\\n\", tf.gather(tensor_1d, range(1,4)))\n",
    "# will print the values from index 1 till 4 means 3 values\n",
    "print(\"=\"*50)\n",
    "\n",
    "# printing from multi dimensional arrays\n",
    "print(\"the original matrix is \\n\", mat_2, \"\\n\")\n",
    "print(\"The range of values is\\n\", \"all elements of the first row are\\n\", tf.gather(mat_2, [0], axis=0), \"\\n\")\n",
    "# we can change the value of axis to either 1 or 0\n",
    "print(\"all values from the second and the third row are \\n\", tf.gather(mat_2, [1,2], axis=0), \"\\n\")\n",
    "print(\"=\"*50)\n",
    "\n",
    "# printing the columns by changing the axis value to 1\n",
    "print(\"all column elements from 1st to the 3rd row are\\n\", tf.gather(mat_2, [0,2], axis=1))\n",
    "\n"
   ]
  },
  {
   "cell_type": "markdown",
   "metadata": {},
   "source": [
    "## tf.ragged : it is a way to create a multi dimensional tensor with non uniform number of columns and rows "
   ]
  },
  {
   "cell_type": "code",
   "execution_count": 23,
   "metadata": {},
   "outputs": [
    {
     "data": {
      "text/plain": [
       "TensorShape([3, None])"
      ]
     },
     "execution_count": 23,
     "metadata": {},
     "output_type": "execute_result"
    }
   ],
   "source": [
    "# try to create a tensor using traditonal way in which there will be non_uniformity of cols and rows\n",
    "# non_uni_tensor= tf.constant([\n",
    "#     [1,2,3,4],\n",
    "#     [4,5,2],\n",
    "#     [7,8,9,4,5]\n",
    "# ])\n",
    "# uncomment the above line of code to check\n",
    "\n",
    "# above tensor has not equal number of columns in each list\n",
    "# this will display an error maessage\n",
    "\n",
    "# creating non_uniform tensor using ragged\n",
    "non_uni_ragged=tf.ragged.constant([\n",
    "    [1,2,3,4],\n",
    "    [4,5,2],\n",
    "    [7,8,9,4,5]\n",
    "])\n",
    "\n",
    "non_uni_ragged.shape\n",
    "# from above output, None in the place of column indicates that there is not equal number of columns in every list"
   ]
  },
  {
   "cell_type": "markdown",
   "metadata": {},
   "source": [
    "## Tensorflow variables "
   ]
  },
  {
   "cell_type": "markdown",
   "metadata": {},
   "source": [
    "## var.assign_sub : is used to subtract the elements of created var_tensor from the new given list of the same order\n",
    "## var.assign_add : similar but opposite to above one "
   ]
  },
  {
   "cell_type": "code",
   "execution_count": 28,
   "metadata": {},
   "outputs": [
    {
     "name": "stdout",
     "output_type": "stream",
     "text": [
      "The tensor variable is \n",
      " <tf.Variable 'x_tens_var:0' shape=(5,) dtype=int32, numpy=array([ 1, 22,  3,  4,  5])>\n",
      "==================================================\n",
      "The subtracted result is\n",
      " <tf.Variable 'UnreadVariable' shape=(5,) dtype=int32, numpy=array([-3, 20, -2, -4, -4])>\n",
      "==================================================\n",
      "The added result is\n",
      " <tf.Variable 'UnreadVariable' shape=(5,) dtype=int32, numpy=array([ 1, 22,  3,  4,  5])>\n",
      "==================================================\n"
     ]
    }
   ],
   "source": [
    "# creating a tensor and will name it afterwards\n",
    "x_tensor=tf.constant([1,22,3,4,5])\n",
    "# now we will make it a variable and name it\n",
    "x_tensor_var=tf.Variable(x_tensor, name='x_tens_var')\n",
    "print(\"The tensor variable is \\n\", x_tensor_var)\n",
    "print(\"=\"*50)\n",
    "\n",
    "# assign_sub\n",
    "print(\"The subtracted result is\\n\", x_tensor_var.assign_sub([4,2,5,8,9]))\n",
    "print(\"=\"*50)\n",
    "\n",
    "# assign_add\n",
    "print(\"The added result is\\n\", x_tensor_var.assign_add([4,2,5,8,9]))\n",
    "print(\"=\"*50)\n",
    "\n"
   ]
  },
  {
   "cell_type": "code",
   "execution_count": null,
   "metadata": {},
   "outputs": [],
   "source": []
  }
 ],
 "metadata": {
  "kernelspec": {
   "display_name": "Python 3",
   "language": "python",
   "name": "python3"
  },
  "language_info": {
   "codemirror_mode": {
    "name": "ipython",
    "version": 3
   },
   "file_extension": ".py",
   "mimetype": "text/x-python",
   "name": "python",
   "nbconvert_exporter": "python",
   "pygments_lexer": "ipython3",
   "version": "3.11.1"
  }
 },
 "nbformat": 4,
 "nbformat_minor": 2
}
