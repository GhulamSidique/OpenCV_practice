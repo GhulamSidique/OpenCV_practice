{
 "cells": [
  {
   "cell_type": "markdown",
   "metadata": {},
   "source": [
    "#### in this project we will automatically detect the OCR(Optical Character recognition)\n",
    "#### in this project we will detect the total amount from a reciept\n",
    "#### for this pupose we need to have requests library to hit an api\n",
    "#### run following line of command on command prompt to install requests if it is not installed\n",
    "#### pip install requests"
   ]
  },
  {
   "cell_type": "code",
   "execution_count": 1,
   "metadata": {},
   "outputs": [],
   "source": [
    "# importing libraries\n",
    "import json\n",
    "import requests\n",
    "\n",
    "# url to be hit\n",
    "url=\"https://ocr.asprise.com/api/v1/receipt\"\n",
    "\n",
    "# load the receipt image \n",
    "img=\"E:/computer vision/py_for_CV/L#08_Automatic_OCR_detection/reciept.jpg\"\n",
    "\n",
    "# url response by hitting the url through request\n",
    "resp=requests.post(url, \n",
    "data={'api_key':'TEST', 'recognizer':'auto', 'ref_no':'oct_python_123'},\n",
    "files={'file':open (img, 'rb')})\n",
    "\n",
    "# now saving the data in a json file for furhter processing\n",
    "with open(\"response.json\", 'w') as f:\n",
    "    json.dump(json.loads(resp.text), f)\n"
   ]
  },
  {
   "cell_type": "code",
   "execution_count": 13,
   "metadata": {},
   "outputs": [
    {
     "name": "stdout",
     "output_type": "stream",
     "text": [
      "{'merchant_name': 'WHOLESALE Thornton #629', 'merchant_address': '16375 N. Washington St.', 'merchant_phone': None, 'merchant_website': None, 'merchant_tax_reg_no': None, 'merchant_company_reg_no': None, 'region': None, 'mall': None, 'country': 'US', 'state': 'CO', 'city': 'Thornton', 'zip': '80023', 'receipt_no': None, 'date': '2016-04-20', 'time': '15:00', 'items': [{'amount': 23.99, 'category': None, 'description': 'E673919 FF BS BREAST', 'flags': ' E', 'qty': None, 'remarks': None, 'tags': None, 'unitPrice': None}, {'amount': 6.49, 'category': None, 'description': 'E633561 KS DICED TOM', 'flags': ' E', 'qty': None, 'remarks': None, 'tags': None, 'unitPrice': None}, {'amount': 2.97, 'category': None, 'description': 'E967596 JACKORGSALSA', 'flags': ' E', 'qty': None, 'remarks': None, 'tags': None, 'unitPrice': None}, {'amount': 12.87, 'category': None, 'description': 'E878137 18CT EGGS', 'flags': ' E', 'qty': None, 'remarks': None, 'tags': None, 'unitPrice': None}, {'amount': 6.29, 'category': None, 'description': 'E77053 GRAPE TOMATO', 'flags': ' E', 'qty': None, 'remarks': None, 'tags': None, 'unitPrice': None}, {'amount': 6.49, 'category': None, 'description': '404609 ECO HALF PAN', 'flags': ' A', 'qty': None, 'remarks': None, 'tags': None, 'unitPrice': None}, {'amount': 18.47, 'category': None, 'description': 'E55992 GRND TURKEY', 'flags': ' E', 'qty': None, 'remarks': None, 'tags': None, 'unitPrice': None}, {'amount': 3.59, 'category': None, 'description': 'E263423 CHPD ONION', 'flags': ' E', 'qty': None, 'remarks': None, 'tags': None, 'unitPrice': None}, {'amount': 4.45, 'category': None, 'description': 'E22101 MONT JACK 2#', 'flags': ' E', 'qty': None, 'remarks': None, 'tags': None, 'unitPrice': None}], 'currency': 'USD', 'total': 89.13, 'subtotal': 85.61, 'tax': 3.52, 'service_charge': None, 'tip': None, 'payment_method': None, 'payment_details': None, 'credit_card_type': None, 'credit_card_number': None, 'ocr_text': '         COSTCO\\n                 WHOLESALE\\n          Thornton #629\\n          16375 N. Washington St.\\n            Thornton, CO 80023\\n  2X Member 111826278335\\n  E     673919 FF BS BREAST    23.99 E\\n  E     633561 KS DICED TOM     6.49 E\\n  E     967596 JACKORGSALSA     2.97 E\\n   3 @ 4.29\\n  E     878137 18CT EGGS       12.87 E\\n  E      77053 GRAPE TOMATO     6.29 E\\n        404609 ECO HALF PAN     6.49 A\\n  E      55992 GRND TURKEY     18.47 E\\n  E    263423 CHPD ONION        3.59 E\\n E      22101 MONT JACK 2#      4.45 E\\n         SUBTOTAL              85.61\\n         TAX                    3.52\\n    **** TOTAL                 89.13\\n         Check/Member Prntd    89.13\\n         CHANGE                 0.00\\n  A 8.50% TAX                   0.55\\n  E 3.75% TAX                   2.97\\n  TOTAL TAX\\n                                3.52\\n TOTAL NUMBER OF ITEMS SOLD      11\\n 04/20/2016 15:00 629 4 172 14\\n OP# 14 Name: PEPPER\\n          Thank You!\\n      Please Come Again\\n  Whse: 629 Trm: 4 Trn: 172 OP: 14', 'ocr_confidence': 96.63, 'width': 352, 'height': 724, 'avg_char_width': 9.2004, 'avg_line_height': 16.2648, 'conf_amount': 83, 'source_locations': {'date': [[{'y': 689, 'x': 41}, {'y': 680, 'x': 208}, {'y': 701, 'x': 209}, {'y': 710, 'x': 42}]], 'total': [[{'y': 504, 'x': 320}, {'y': 502, 'x': 373}, {'y': 519, 'x': 374}, {'y': 521, 'x': 321}]], 'subtotal': [[{'y': 462, 'x': 319}, {'y': 461, 'x': 369}, {'y': 478, 'x': 369}, {'y': 479, 'x': 319}]], 'merchant_name': [[{'y': 168, 'x': 103}, {'y': 154, 'x': 319}, {'y': 169, 'x': 320}, {'y': 184, 'x': 104}]], 'doc': [[{'y': 48, 'x': -4}, {'y': 27, 'x': 383}, {'y': 823, 'x': 426}, {'y': 844, 'x': 39}]], 'tax': [[{'y': 644, 'x': 55}, {'y': 638, 'x': 148}, {'y': 655, 'x': 149}, {'y': 662, 'x': 56}]], 'merchant_address': [[{'y': 184, 'x': 100}, {'y': 171, 'x': 320}, {'y': 190, 'x': 322}, {'y': 203, 'x': 102}]]}}\n"
     ]
    }
   ],
   "source": [
    "# now openning the .json file and code it\n",
    "with open(\"response.json\", 'r') as f:\n",
    "    data=json.load(f)\n",
    "\n",
    "# displaying the receipts data\n",
    "print(data['receipts'][0])\n",
    "\n",
    "# run following code to diaplay the keys of dictionary\n",
    "# print(data['receipts'][0].keys())"
   ]
  },
  {
   "cell_type": "code",
   "execution_count": 5,
   "metadata": {},
   "outputs": [
    {
     "name": "stdout",
     "output_type": "stream",
     "text": [
      "[{'amount': 23.99, 'category': None, 'description': 'E673919 FF BS BREAST', 'flags': ' E', 'qty': None, 'remarks': None, 'tags': None, 'unitPrice': None}, {'amount': 6.49, 'category': None, 'description': 'E633561 KS DICED TOM', 'flags': ' E', 'qty': None, 'remarks': None, 'tags': None, 'unitPrice': None}, {'amount': 2.97, 'category': None, 'description': 'E967596 JACKORGSALSA', 'flags': ' E', 'qty': None, 'remarks': None, 'tags': None, 'unitPrice': None}, {'amount': 12.87, 'category': None, 'description': 'E878137 18CT EGGS', 'flags': ' E', 'qty': None, 'remarks': None, 'tags': None, 'unitPrice': None}, {'amount': 6.29, 'category': None, 'description': 'E77053 GRAPE TOMATO', 'flags': ' E', 'qty': None, 'remarks': None, 'tags': None, 'unitPrice': None}, {'amount': 6.49, 'category': None, 'description': '404609 ECO HALF PAN', 'flags': ' A', 'qty': None, 'remarks': None, 'tags': None, 'unitPrice': None}, {'amount': 18.47, 'category': None, 'description': 'E55992 GRND TURKEY', 'flags': ' E', 'qty': None, 'remarks': None, 'tags': None, 'unitPrice': None}, {'amount': 3.59, 'category': None, 'description': 'E263423 CHPD ONION', 'flags': ' E', 'qty': None, 'remarks': None, 'tags': None, 'unitPrice': None}, {'amount': 4.45, 'category': None, 'description': 'E22101 MONT JACK 2#', 'flags': ' E', 'qty': None, 'remarks': None, 'tags': None, 'unitPrice': None}]\n"
     ]
    }
   ],
   "source": [
    "# from above results we need items and their prices\n",
    "items=data['receipts'][0]['items']\n",
    "print(items)"
   ]
  },
  {
   "cell_type": "code",
   "execution_count": 12,
   "metadata": {},
   "outputs": [
    {
     "name": "stdout",
     "output_type": "stream",
     "text": [
      "Your purchase at WHOLESALE Thornton #629 is given below\n",
      "\n",
      "E673919 FF BS BREAST  ==> $23.99\n",
      "E633561 KS DICED TOM  ==> $6.49\n",
      "E967596 JACKORGSALSA  ==> $2.97\n",
      "E878137 18CT EGGS  ==> $12.87\n",
      "E77053 GRAPE TOMATO  ==> $6.29\n",
      "404609 ECO HALF PAN  ==> $6.49\n",
      "E55992 GRND TURKEY  ==> $18.47\n",
      "E263423 CHPD ONION  ==> $3.59\n",
      "E22101 MONT JACK 2#  ==> $4.45\n",
      "----------------------------------------\n",
      "The subtotal is ==> $85.61\n",
      "----------------------------------------\n",
      "The tax is ==> $3.52\n",
      "----------------------------------------\n",
      "Total amount is ==> $89.13\n"
     ]
    }
   ],
   "source": [
    "# now to print the purchased items along with the price\n",
    "# message\n",
    "print(f\"Your purchase at {data['receipts'][0]['merchant_name']} is given below\\n\")\n",
    "\n",
    "# loop around the data to get the items\n",
    "for item in items:\n",
    "    print(f\"{item['description']}  ==> ${item['amount']}\")\n",
    "\n",
    "# getting the total amount and tax of the purchased items\n",
    "print(\"-\"*40)\n",
    "print(f\"The subtotal is ==> ${data['receipts'][0]['subtotal']}\")\n",
    "print(\"-\"*40)\n",
    "print(f\"The tax is ==> ${data['receipts'][0]['tax']}\")\n",
    "print(\"-\"*40)\n",
    "print(f\"Total amount is ==> ${data['receipts'][0]['total']}\")"
   ]
  }
 ],
 "metadata": {
  "kernelspec": {
   "display_name": "Python 3",
   "language": "python",
   "name": "python3"
  },
  "language_info": {
   "codemirror_mode": {
    "name": "ipython",
    "version": 3
   },
   "file_extension": ".py",
   "mimetype": "text/x-python",
   "name": "python",
   "nbconvert_exporter": "python",
   "pygments_lexer": "ipython3",
   "version": "3.11.1"
  }
 },
 "nbformat": 4,
 "nbformat_minor": 2
}
