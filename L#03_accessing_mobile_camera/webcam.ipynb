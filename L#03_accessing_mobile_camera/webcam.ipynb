{
 "cells": [
  {
   "cell_type": "markdown",
   "metadata": {},
   "source": [
    "### here in this notebook we will access the mmobile's camera in our code here down below\n",
    "### for this we need to do following tasks\n",
    "### download an aplication in your mobile phone named as \" IP webcam \"\n",
    "### open webcam and click on the start server option and the camera will be started\n",
    "### in mobile there will be aan ip address displayed at the bottom of the webcam's video copy it and seaarch thorugh any browser on the laptop\n",
    "### once the camera is connected to the web-browser copy the link and paste it in the code below\n",
    "### to perform the above mentioned actions the pc and the mobile must be connected through the same network"
   ]
  },
  {
   "cell_type": "markdown",
   "metadata": {},
   "source": []
  },
  {
   "cell_type": "code",
   "execution_count": 2,
   "metadata": {},
   "outputs": [],
   "source": [
    "import cv2"
   ]
  },
  {
   "cell_type": "markdown",
   "metadata": {},
   "source": [
    "### Function to access the mobile's camera through browser"
   ]
  },
  {
   "cell_type": "code",
   "execution_count": 3,
   "metadata": {},
   "outputs": [],
   "source": [
    "def access_mobile_camera():\n",
    "    # access the camera by pputting the coied link in the camera var down below\n",
    "    camera = \"http://192.168.73.190:8080/video\"\n",
    "    \n",
    "    # capture the video\n",
    "    cap_vid = cv2.VideoCapture()\n",
    "\n",
    "    # open the camera using function\n",
    "    cap_vid.open(camera)\n",
    "\n",
    "    # run the loop to get the frames of video\n",
    "    while cap_vid.isOpened():\n",
    "        ret, frame = cap_vid.read() # to read the frames of video\n",
    "        # condition\n",
    "        if ret == True:\n",
    "            # resize the frame\n",
    "            frame = cv2.resize(frame, (400, 400))\n",
    "            # show the video frames\n",
    "            cv2.imshow(\"mobile camera video\", frame)\n",
    "\n",
    "            # define the clsoing criteria\n",
    "            k = cv2.waitKey(1)\n",
    "            # condition to close the video\n",
    "            if k is k and k == ord('x'):\n",
    "                break\n",
    "    # release the video\n",
    "    cap_vid.release()\n",
    "    # destory the windows\n",
    "    cv2.destroyAllWindows()\n",
    "\n",
    "access_mobile_camera()"
   ]
  },
  {
   "cell_type": "code",
   "execution_count": null,
   "metadata": {},
   "outputs": [],
   "source": []
  },
  {
   "cell_type": "code",
   "execution_count": null,
   "metadata": {},
   "outputs": [],
   "source": []
  }
 ],
 "metadata": {
  "kernelspec": {
   "display_name": "Python 3",
   "language": "python",
   "name": "python3"
  },
  "language_info": {
   "codemirror_mode": {
    "name": "ipython",
    "version": 3
   },
   "file_extension": ".py",
   "mimetype": "text/x-python",
   "name": "python",
   "nbconvert_exporter": "python",
   "pygments_lexer": "ipython3",
   "version": "3.12.4"
  }
 },
 "nbformat": 4,
 "nbformat_minor": 2
}
